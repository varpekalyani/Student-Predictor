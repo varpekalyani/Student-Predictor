{
 "cells": [
  {
   "cell_type": "code",
   "execution_count": 2,
   "id": "4812589d",
   "metadata": {},
   "outputs": [
    {
     "name": "stdout",
     "output_type": "stream",
     "text": [
      "✅ Model trained and saved as 'model.pkl'\n"
     ]
    }
   ],
   "source": [
    "# 1. Import libraries\n",
    "import pandas as pd\n",
    "from sklearn.linear_model import LinearRegression\n",
    "import pickle\n",
    "\n",
    "# 2. Create dataset\n",
    "data = {\n",
    "    'Study Hours': [2, 3, 4, 5, 6, 7, 8, 9, 10],\n",
    "    'Attendance': [60, 65, 70, 75, 80, 85, 90, 95, 100],\n",
    "    'Previous Score': [50, 55, 60, 65, 70, 75, 80, 85, 90],\n",
    "    'Extra Classes': [0, 1, 2, 1, 3, 2, 4, 3, 5],  # Example values\n",
    "    'Performance': [40, 45, 50, 55, 60, 65, 70, 75, 80]\n",
    "}\n",
    "\n",
    "df = pd.DataFrame(data)\n",
    "\n",
    "# 3. Split data\n",
    "X = df[['Study Hours', 'Attendance', 'Previous Score', 'Extra Classes']]\n",
    "y = df['Performance']\n",
    "\n",
    "# 4. Train the model\n",
    "model = LinearRegression()\n",
    "model.fit(X, y)\n",
    "\n",
    "# 5. Save the model\n",
    "pickle.dump(model, open('model.pkl', 'wb'))\n",
    "\n",
    "print(\"✅ Model trained and saved as 'model.pkl'\")\n"
   ]
  },
  {
   "cell_type": "markdown",
   "id": "8f453362",
   "metadata": {},
   "source": []
  },
  {
   "cell_type": "code",
   "execution_count": null,
   "id": "7d8e5779",
   "metadata": {},
   "outputs": [],
   "source": []
  }
 ],
 "metadata": {
  "kernelspec": {
   "display_name": ".venv",
   "language": "python",
   "name": "python3"
  },
  "language_info": {
   "codemirror_mode": {
    "name": "ipython",
    "version": 3
   },
   "file_extension": ".py",
   "mimetype": "text/x-python",
   "name": "python",
   "nbconvert_exporter": "python",
   "pygments_lexer": "ipython3",
   "version": "3.12.0"
  }
 },
 "nbformat": 4,
 "nbformat_minor": 5
}
